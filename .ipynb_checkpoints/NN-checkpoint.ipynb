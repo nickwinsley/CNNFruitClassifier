{
 "cells": [
  {
   "cell_type": "code",
   "execution_count": 2,
   "id": "5f616e90-845e-4ba0-929a-8077efb147ff",
   "metadata": {},
   "outputs": [
    {
     "ename": "FileNotFoundError",
     "evalue": "[WinError 3] The system cannot find the path specified: 'train_data/tomato/'",
     "output_type": "error",
     "traceback": [
      "\u001b[1;31m---------------------------------------------------------------------------\u001b[0m",
      "\u001b[1;31mFileNotFoundError\u001b[0m                         Traceback (most recent call last)",
      "Cell \u001b[1;32mIn[2], line 34\u001b[0m\n\u001b[0;32m     31\u001b[0m path2 \u001b[38;5;241m=\u001b[39m \u001b[38;5;124m'\u001b[39m\u001b[38;5;124mtrain_data/strawberry/\u001b[39m\u001b[38;5;124m'\u001b[39m\n\u001b[0;32m     32\u001b[0m path3 \u001b[38;5;241m=\u001b[39m \u001b[38;5;124m'\u001b[39m\u001b[38;5;124mtrain_data/cherry/\u001b[39m\u001b[38;5;124m'\u001b[39m\n\u001b[1;32m---> 34\u001b[0m tomato \u001b[38;5;241m=\u001b[39m \u001b[43mos\u001b[49m\u001b[38;5;241;43m.\u001b[39;49m\u001b[43mlistdir\u001b[49m\u001b[43m(\u001b[49m\u001b[43mpath1\u001b[49m\u001b[43m)\u001b[49m\n\u001b[0;32m     35\u001b[0m strawberry \u001b[38;5;241m=\u001b[39m os\u001b[38;5;241m.\u001b[39mlistdir(path2)\n\u001b[0;32m     36\u001b[0m cherry \u001b[38;5;241m=\u001b[39m os\u001b[38;5;241m.\u001b[39mlistdir(path3)\n",
      "\u001b[1;31mFileNotFoundError\u001b[0m: [WinError 3] The system cannot find the path specified: 'train_data/tomato/'"
     ]
    }
   ],
   "source": [
    "import torch.nn as nn\n",
    "import torch.nn.functional as F\n",
    "import torch.optim as optim\n",
    "from torchvision.transforms import Resize\n",
    "from torchvision.io import decode_image\n",
    "import torch\n",
    "import os\n",
    "import numpy as np\n",
    "import matplotlib.pyplot as plt\n",
    "import torchvision.transforms as transforms\n",
    "import torchvision.io as io\n",
    "from PIL import Image\n",
    "from sklearn.preprocessing import LabelEncoder\n",
    "\n",
    "class Net(nn.Module):\n",
    "    def __init__(self):\n",
    "        super().__init__()\n",
    "\n",
    "        self.layer1 = nn.Linear(300, 3)\n",
    "        self.layer3 = nn.Linear(3, 3)\n",
    "\n",
    "    def forward(self, x):\n",
    "        x = self.layer1(x)\n",
    "        x = F.relu(x)\n",
    "        x = self.layer3(x)\n",
    "\n",
    "        return x\n",
    "\n",
    "if (__name__ == '__main__'):\n",
    "    path1 = \"train_data/tomato/\"\n",
    "    path2 = 'train_data/strawberry/'\n",
    "    path3 = 'train_data/cherry/'\n",
    "\n",
    "    tomato = os.listdir(path1)\n",
    "    strawberry = os.listdir(path2)\n",
    "    cherry = os.listdir(path3)\n",
    "\n",
    "    transforms = transforms.Compose([transforms.ToTensor(), Resize((300, 300))])\n",
    "\n",
    "    data = Image.open(path1 + tomato[0])\n",
    "\n",
    "    data = transforms(data)\n",
    "\n",
    "    targ = np.array(\"Tomato\")\n",
    "\n",
    "    for fname in tomato[1:len(tomato)]:\n",
    "        img = Image.open(path1 + fname)\n",
    "        img = transforms(img)\n",
    "        if (img.shape[0] != 3):\n",
    "            continue\n",
    "        data = torch.cat((data, img), -1)\n",
    "        targ = np.append(targ, \"Tomato\")\n",
    "\n",
    "    for fname in strawberry:\n",
    "        img = Image.open(path2 + fname)\n",
    "        img = transforms(img)\n",
    "        if (img.shape[0] != 3):\n",
    "            continue\n",
    "        data = torch.cat((data, img), -1)\n",
    "        targ = np.append(targ, \"Strawberry\")\n",
    "\n",
    "    for fname in cherry:\n",
    "        img = Image.open(path3 + fname)\n",
    "        img = transforms(img)\n",
    "        if (img.shape[0] != 3):\n",
    "            continue\n",
    "        data = torch.cat((data, img), -1)\n",
    "        targ = np.append(targ, \"Cherry\")"
   ]
  },
  {
   "cell_type": "code",
   "execution_count": null,
   "id": "6083673f-9dbf-4ae4-b303-576557371516",
   "metadata": {},
   "outputs": [],
   "source": []
  }
 ],
 "metadata": {
  "kernelspec": {
   "display_name": "Python 3 (ipykernel)",
   "language": "python",
   "name": "python3"
  },
  "language_info": {
   "codemirror_mode": {
    "name": "ipython",
    "version": 3
   },
   "file_extension": ".py",
   "mimetype": "text/x-python",
   "name": "python",
   "nbconvert_exporter": "python",
   "pygments_lexer": "ipython3",
   "version": "3.12.7"
  }
 },
 "nbformat": 4,
 "nbformat_minor": 5
}
